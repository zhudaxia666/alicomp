{
 "cells": [
  {
   "cell_type": "code",
   "execution_count": 40,
   "metadata": {},
   "outputs": [
    {
     "name": "stdout",
     "output_type": "stream",
     "text": [
      "KeysView(<HDF5 file \"training.h5\" (mode r)>)\n",
      "float64\n",
      "5\n",
      "[ 5068. 24431. 31693.  8651. 16493. 35290.  3269. 39326. 13584. 11954.\n",
      " 42902.  9514.  9165. 41377.  2392.  7898. 49359.]\n",
      "35290.0\n",
      "352366\n",
      "[[ 1  2  3]\n",
      " [ 4  5  6]\n",
      " [10 20 30]\n",
      " [40 50 60]]\n"
     ]
    }
   ],
   "source": [
    "import h5py\n",
    "import pandas as pd\n",
    "import matplotlib.pyplot as plt\n",
    "import numpy as np\n",
    "import os\n",
    "\n",
    "base_dir = \"data\"\n",
    "\n",
    "path_training = os.path.join(base_dir, \"training.h5\")\n",
    "\n",
    "fid_training = h5py.File(path_training,'r')\n",
    "print(fid_training.keys())\n",
    "\n",
    "new_training = h5py.File('new_training.h5', 'a')\n",
    "\n",
    "s1_training = fid_training['sen1']\n",
    "print(s1_training.dtype)\n",
    "s2_training = fid_training['sen2']\n",
    "label_training = fid_training['label']\n",
    "print(np.argmax(label_training[0]))\n",
    "\n",
    "label_qty = np.sum(label_training, axis=0)\n",
    "print(label_qty)\n",
    "print(label_qty[np.argmax(label_training[0])])\n",
    "\n",
    "num_train=fid_training['sen1'].shape[0]\n",
    "print(num_train)"
   ]
  },
  {
   "cell_type": "code",
   "execution_count": 3,
   "metadata": {},
   "outputs": [
    {
     "name": "stdout",
     "output_type": "stream",
     "text": [
      "[ 256. 1254. 2353.  849.  757. 1906.  474. 3395. 1914.  860. 2287.  382.\n",
      " 1202. 2747.  202.  672. 2609.]\n"
     ]
    }
   ],
   "source": [
    "import os\n",
    "import h5py\n",
    "import numpy as np\n",
    "from scipy import signal\n",
    "\n",
    "base_dir = \"data\"\n",
    "\n",
    "path_validation = os.path.join(base_dir, \"validation.h5\")\n",
    "\n",
    "fid_validation = h5py.File(path_validation, 'r')\n",
    "s1 = fid_validation['sen1']\n",
    "label_validation=fid_validation['label']\n",
    "label_qty = np.sum(label_validation, axis=0)\n",
    "print(label_qty)\n"
   ]
  },
  {
   "cell_type": "code",
   "execution_count": null,
   "metadata": {},
   "outputs": [],
   "source": []
  },
  {
   "cell_type": "code",
   "execution_count": null,
   "metadata": {},
   "outputs": [],
   "source": []
  },
  {
   "cell_type": "code",
   "execution_count": null,
   "metadata": {},
   "outputs": [],
   "source": []
  }
 ],
 "metadata": {
  "kernelspec": {
   "display_name": "Python 3",
   "language": "python",
   "name": "python3"
  },
  "language_info": {
   "codemirror_mode": {
    "name": "ipython",
    "version": 3
   },
   "file_extension": ".py",
   "mimetype": "text/x-python",
   "name": "python",
   "nbconvert_exporter": "python",
   "pygments_lexer": "ipython3",
   "version": "3.6.4"
  }
 },
 "nbformat": 4,
 "nbformat_minor": 2
}
