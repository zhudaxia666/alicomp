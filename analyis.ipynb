{
 "cells": [
  {
   "cell_type": "code",
   "execution_count": 1,
   "metadata": {},
   "outputs": [
    {
     "name": "stdout",
     "output_type": "stream",
     "text": [
      "data\\training.h5\n",
      "data\\validation.h5\n",
      "shape for each channel.\n",
      "(352366, 32, 32, 8)\n",
      "(352366, 32, 32, 10)\n",
      "(352366, 17)\n",
      "------------------------------------------------------------\n",
      "validation part\n",
      "(24119, 32, 32, 8)\n",
      "(24119, 32, 32, 10)\n",
      "(24119, 17)\n",
      "show class distribution\n",
      "[ 5068. 24431. 31693.  8651. 16493. 35290.  3269. 39326. 13584. 11954.\n",
      " 42902.  9514.  9165. 41377.  2392.  7898. 49359.]\n"
     ]
    },
    {
     "data": {
      "text/plain": [
       "<Figure size 640x480 with 1 Axes>"
      ]
     },
     "metadata": {},
     "output_type": "display_data"
    }
   ],
   "source": [
    "# 查看当前kernel下已安装的包  list packages\n",
    "import h5py\n",
    "import numpy as np\n",
    "import matplotlib.pyplot as plt\n",
    "import os\n",
    "import matplotlib.pyplot as plt\n",
    "\n",
    "\n",
    "\n",
    "base_dir = \"data\"\n",
    "path_training = os.path.join(base_dir, \"training.h5\")\n",
    "path_validation = os.path.join(base_dir,\"validation.h5\")\n",
    "# path_test = os.path.join(base_dir, \"sample_test.h5\", \"sample_test.h5\")\n",
    "print(path_training)\n",
    "print(path_validation)\n",
    "\n",
    "fid_training = h5py.File(path_training,'r')\n",
    "fid_validation = h5py.File(path_validation,'r')\n",
    "\n",
    "print(\"shape for each channel.\")\n",
    "s1_training = fid_training['sen1']\n",
    "print(s1_training.shape)\n",
    "s2_training = fid_training['sen2']\n",
    "print(s2_training.shape)\n",
    "label_training = fid_training['label']\n",
    "print(label_training.shape)\n",
    "\n",
    "print(\"-\" * 60)\n",
    "print(\"validation part\")\n",
    "s1_validation = fid_validation['sen1']\n",
    "print(s1_validation.shape)\n",
    "s2_validation = fid_validation['sen2']\n",
    "print(s2_validation.shape)\n",
    "label_validation = fid_validation['label']\n",
    "print(label_validation.shape)\n",
    "\n",
    "print(\"show class distribution\")\n",
    "label_qty = np.sum(fid_training[\"label\"], axis=0)\n",
    "print(label_qty)\n",
    "plt.plot(label_qty)\n",
    "plt.title(\"class distribution\")\n",
    "plt.show()\n",
    "\n",
    "\n"
   ]
  },
  {
   "cell_type": "code",
   "execution_count": null,
   "metadata": {},
   "outputs": [],
   "source": [
    "type(s1_training)\n",
    "s1_training.shape\n",
    "s1_training[0].shape\n",
    "type(s1_training[0])\n",
    "labels=np.argmax(fid_training['label'],1)\n",
    "type(labels)\n",
    "labels.shape\n",
    "#distrib = np.bincount(labels)\n",
    "#prob = 1/distrib[labels].astype(float)\n",
    "#prob /= prob.sum()\n",
    "#len(fid_training['label'])\n",
    "#bingo=np.random.choice(np.arange(len(labels)), size=5, replace=True,p=prob)\n",
    "#print(bingo)\n",
    "#y_b = np.array([fid_training['label'][i] for i in bingo])\n",
    "#print(y_b)\n",
    "path_test = os.path.join(base_dir,\"round1_test.h5\")\n",
    "fid_test=h5py.File(path_test,'r')\n",
    "fid_test['sen2'].shape\n",
    "fid_validation['label'].shape\n",
    "np.sum(fid_validation['label'],0)\n",
    "fid_training['sen2'].shape\n"
   ]
  },
  {
   "cell_type": "code",
   "execution_count": null,
   "metadata": {},
   "outputs": [],
   "source": [
    "# visualization, plot the first pair of Sentinel-1 and Sentinel-2 patches of training.h5\n",
    "import matplotlib.pyplot as plt\n",
    "\n",
    "plt.subplot(121)\n",
    "plt.imshow(10*np.log10(s1_training[0,:,:,4]),cmap=plt.cm.get_cmap('gray'));\n",
    "plt.colorbar()\n",
    "plt.title('Sentinel-1')\n",
    "\n",
    "plt.subplot(122)\n",
    "plt.imshow(s2_training[0,:,:,1],cmap=plt.cm.get_cmap('gray'));\n",
    "plt.colorbar()\n",
    "plt.title('Sentinel-2')\n",
    "\n",
    "plt.show()\n",
    "\n",
    "### as you can see, it is difficult to identify the image as a class by human."
   ]
  },
  {
   "cell_type": "code",
   "execution_count": null,
   "metadata": {
    "collapsed": true
   },
   "outputs": [],
   "source": [
    "from sklearn.ensemble import RandomForestClassifier\n",
    "from sklearn.metrics import classification_report\n",
    "\n",
    "## for a small dataset train and test\n",
    "\n",
    "train_s1 = np.array(fid_training['sen1'])\n",
    "print(train_s1.shape)\n",
    "print(train_s1.shape)\n",
    "train_s2 = np.array(fid_training['sen2'])\n",
    "train_label = np.array(fid_training['label'])\n",
    "train_y = np.argmax(train_label, axis=1)\n",
    "\n",
    "validation_s1 = np.array(fid_validation['sen1'])\n",
    "validation_s2 = np.array(fid_validation['sen2'])\n",
    "validation_label = np.array(fid_validation['label'])\n",
    "validation_y = np.argmax(validation_label, axis=1)\n",
    "\n",
    "n = train_s1.shape[0]\n",
    "train_s1 = train_s1.reshape((n, -1))\n",
    "train_s2 = train_s2.reshape((n, -1))\n",
    "train_X = np.hstack([train_s1, train_s2])\n",
    "\n",
    "n = validation_s1.shape[0]\n",
    "validation_s1 = validation_s1.reshape((n, -1))\n",
    "validation_s2 = validation_s2.reshape((n, -1))\n",
    "validation_X = np.hstack([validation_s1, validation_s2])\n",
    "\n",
    "clf = RandomForestClassifier()\n",
    "clf.fit(train_X, train_y)\n",
    "pre_val_y = clf.predict(validation_X)\n",
    "\n",
    "print(classification_report(validation_y, pre_val_y))"
   ]
  },
  {
   "cell_type": "code",
   "execution_count": null,
   "metadata": {
    "collapsed": true
   },
   "outputs": [],
   "source": []
  }
 ],
 "metadata": {
  "anaconda-cloud": {},
  "kernelspec": {
   "display_name": "Python 3",
   "language": "python",
   "name": "python3"
  },
  "language_info": {
   "codemirror_mode": {
    "name": "ipython",
    "version": 3
   },
   "file_extension": ".py",
   "mimetype": "text/x-python",
   "name": "python",
   "nbconvert_exporter": "python",
   "pygments_lexer": "ipython3",
   "version": "3.6.4"
  }
 },
 "nbformat": 4,
 "nbformat_minor": 2
}
