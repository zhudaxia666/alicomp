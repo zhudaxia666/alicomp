{
 "cells": [
  {
   "cell_type": "code",
<<<<<<< HEAD
   "execution_count": 3,
   "metadata": {},
   "outputs": [
    {
     "ename": "SyntaxError",
     "evalue": "invalid syntax (<ipython-input-3-e227eec6260b>, line 17)",
     "output_type": "error",
     "traceback": [
      "\u001b[1;36m  File \u001b[1;32m\"<ipython-input-3-e227eec6260b>\"\u001b[1;36m, line \u001b[1;32m17\u001b[0m\n\u001b[1;33m    print fid_training.keys()\u001b[0m\n\u001b[1;37m                     ^\u001b[0m\n\u001b[1;31mSyntaxError\u001b[0m\u001b[1;31m:\u001b[0m invalid syntax\n"
     ]
=======
   "execution_count": 9,
   "metadata": {},
   "outputs": [
    {
     "name": "stdout",
     "output_type": "stream",
     "text": [
      "data/training.h5\n",
      "data/validation.h5\n",
      "shape for each channel.\n",
      "(352366, 32, 32, 8)\n",
      "(352366, 32, 32, 10)\n",
      "(352366, 17)\n",
      "------------------------------------------------------------\n",
      "validation part\n",
      "(24119, 32, 32, 8)\n",
      "(24119, 32, 32, 10)\n",
      "(24119, 17)\n",
      "show class distribution\n",
      "[ 5068. 24431. 31693.  8651. 16493. 35290.  3269. 39326. 13584. 11954.\n",
      " 42902.  9514.  9165. 41377.  2392.  7898. 49359.]\n"
     ]
    },
    {
     "data": {
      "image/png": "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\n",
      "text/plain": [
       "<Figure size 432x288 with 1 Axes>"
      ]
     },
     "metadata": {
      "needs_background": "light"
     },
     "output_type": "display_data"
>>>>>>> 4c0039af4692a7c2dcc13beaf79029ecc22160d2
    }
   ],
   "source": [
    "# 查看当前kernel下已安装的包  list packages\n",
    "import h5py\n",
    "import numpy as np\n",
    "import matplotlib.pyplot as plt\n",
    "import os\n",
    "import matplotlib.pyplot as plt\n",
    "\n",
<<<<<<< HEAD
    "### to change according to your machine\n",
    "base_dir = os.path.expanduser(\"/media/data/tum\")\n",
    "path_training = os.path.join(base_dir, 'training.h5')\n",
    "path_validation = os.path.join(base_dir, 'validation.h5')\n",
=======
    "# 根目录\n",
    "base_dir = \"data\"\n",
    "# 训练数据路径\n",
    "path_training = os.path.join(base_dir, \"training.h5\")\n",
    "# 验证集路径\n",
    "path_validation = os.path.join(base_dir,\"validation.h5\")\n",
    "print(path_training)\n",
    "print(path_validation)\n",
>>>>>>> 4c0039af4692a7c2dcc13beaf79029ecc22160d2
    "\n",
    "fid_training = h5py.File(path_training,'r')\n",
    "fid_validation = h5py.File(path_validation,'r')\n",
    "\n",
    "print(\"shape for each channel.\")\n",
    "s1_training = fid_training['sen1']\n",
    "print(s1_training.shape)\n",
    "s2_training = fid_training['sen2']\n",
    "print(s2_training.shape)\n",
    "label_training = fid_training['label']\n",
    "print(label_training.shape)\n",
    "\n",
    "print(\"-\" * 60)\n",
    "print(\"validation part\")\n",
    "s1_validation = fid_validation['sen1']\n",
    "print(s1_validation.shape)\n",
    "s2_validation = fid_validation['sen2']\n",
    "print(s2_validation.shape)\n",
    "label_validation = fid_validation['label']\n",
    "print(label_validation.shape)\n",
    "\n",
    "print(\"show class distribution\")\n",
    "label_qty = np.sum(fid_training[\"label\"], axis=0)\n",
    "print(label_qty)\n",
    "plt.plot(label_qty)\n",
    "plt.title(\"class distribution\")\n",
    "plt.show()"
   ]
  },
  {
   "cell_type": "code",
   "execution_count": 28,
   "metadata": {
    "scrolled": true
   },
   "outputs": [
    {
     "data": {
      "text/plain": [
       "(352366, 32, 32, 8)"
      ]
     },
     "execution_count": 28,
     "metadata": {},
     "output_type": "execute_result"
    }
   ],
   "source": [
    "fid_training[\"sen1\"].shape"
   ]
  },
  {
   "cell_type": "code",
   "execution_count": 32,
   "metadata": {},
   "outputs": [
    {
     "data": {
      "text/plain": [
       "(352366, 17)"
      ]
     },
     "execution_count": 32,
     "metadata": {},
     "output_type": "execute_result"
    }
   ],
   "source": [
    "fid_training[\"label\"].shape"
   ]
  },
  {
   "cell_type": "code",
   "execution_count": 34,
   "metadata": {},
   "outputs": [
    {
     "data": {
      "text/plain": [
       "(352366, 32, 32, 10)"
      ]
     },
     "execution_count": 34,
     "metadata": {},
     "output_type": "execute_result"
    }
   ],
   "source": [
    "fid_training[\"sen2\"].shape"
   ]
  },
  {
   "cell_type": "code",
   "execution_count": 44,
   "metadata": {},
   "outputs": [
    {
     "data": {
      "text/plain": [
       "numpy.ndarray"
      ]
     },
     "execution_count": 44,
     "metadata": {},
     "output_type": "execute_result"
    }
   ],
   "source": [
    "type(fid_training[\"sen1\"][0])"
   ]
  },
  {
   "cell_type": "code",
   "execution_count": 47,
   "metadata": {},
   "outputs": [
    {
     "data": {
      "text/plain": [
       "['label', 'sen1', 'sen2']"
      ]
     },
     "execution_count": 47,
     "metadata": {},
     "output_type": "execute_result"
    }
   ],
   "source": [
    "list(fid_training.keys())"
   ]
  },
  {
   "cell_type": "code",
   "execution_count": 51,
   "metadata": {},
   "outputs": [
    {
     "data": {
      "text/plain": [
       "(32, 32)"
      ]
     },
     "execution_count": 51,
     "metadata": {},
     "output_type": "execute_result"
    }
   ],
   "source": [
    "fid_training[\"sen1\"][0][:,:,0].shape"
   ]
  },
  {
   "cell_type": "code",
   "execution_count": 52,
   "metadata": {},
   "outputs": [
    {
     "data": {
      "text/plain": [
       "array([[0.1534, 0.1709, 0.1779, ..., 0.157 , 0.1484, 0.1454],\n",
       "       [0.1649, 0.187 , 0.1906, ..., 0.1488, 0.1557, 0.1542],\n",
       "       [0.1862, 0.1931, 0.1943, ..., 0.1408, 0.152 , 0.1562],\n",
       "       ...,\n",
       "       [0.1508, 0.1538, 0.1538, ..., 0.1603, 0.1603, 0.1498],\n",
       "       [0.1516, 0.1548, 0.1511, ..., 0.1686, 0.1712, 0.1537],\n",
       "       [0.1511, 0.1501, 0.15  , ..., 0.1648, 0.1748, 0.1697]])"
      ]
     },
     "execution_count": 52,
     "metadata": {},
     "output_type": "execute_result"
    }
   ],
   "source": [
    "fid_training[\"sen2\"][0][:,:,0]"
   ]
  },
  {
   "cell_type": "code",
   "execution_count": 18,
   "metadata": {},
   "outputs": [],
   "source": [
    "## compute the quantity for each col\n",
    "label_qty = np.sum(label_training, axis=0)"
   ]
  },
  {
   "cell_type": "code",
<<<<<<< HEAD
   "execution_count": 1,
=======
   "execution_count": 56,
>>>>>>> 4c0039af4692a7c2dcc13beaf79029ecc22160d2
   "metadata": {
    "scrolled": true
   },
   "outputs": [
    {
<<<<<<< HEAD
     "ename": "NameError",
     "evalue": "name 'label_qty' is not defined",
     "output_type": "error",
     "traceback": [
      "\u001b[1;31m---------------------------------------------------------------------------\u001b[0m",
      "\u001b[1;31mNameError\u001b[0m                                 Traceback (most recent call last)",
      "\u001b[1;32m<ipython-input-1-29327e991717>\u001b[0m in \u001b[0;36m<module>\u001b[1;34m\u001b[0m\n\u001b[0;32m      1\u001b[0m \u001b[1;31m# visualization, plot the first pair of Sentinel-1 and Sentinel-2 patches of training.h5\u001b[0m\u001b[1;33m\u001b[0m\u001b[1;33m\u001b[0m\u001b[0m\n\u001b[0;32m      2\u001b[0m \u001b[1;32mimport\u001b[0m \u001b[0mmatplotlib\u001b[0m\u001b[1;33m.\u001b[0m\u001b[0mpyplot\u001b[0m \u001b[1;32mas\u001b[0m \u001b[0mplt\u001b[0m\u001b[1;33m\u001b[0m\u001b[0m\n\u001b[1;32m----> 3\u001b[1;33m \u001b[0mplt\u001b[0m\u001b[1;33m.\u001b[0m\u001b[0mplot\u001b[0m\u001b[1;33m(\u001b[0m\u001b[0mlabel_qty\u001b[0m\u001b[1;33m)\u001b[0m\u001b[1;33m\u001b[0m\u001b[0m\n\u001b[0m\u001b[0;32m      4\u001b[0m \u001b[1;33m\u001b[0m\u001b[0m\n\u001b[0;32m      5\u001b[0m \u001b[0mplt\u001b[0m\u001b[1;33m.\u001b[0m\u001b[0msubplot\u001b[0m\u001b[1;33m(\u001b[0m\u001b[1;36m121\u001b[0m\u001b[1;33m)\u001b[0m\u001b[1;33m\u001b[0m\u001b[0m\n",
      "\u001b[1;31mNameError\u001b[0m: name 'label_qty' is not defined"
     ]
=======
     "data": {
      "image/png": "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\n",
      "text/plain": [
       "<Figure size 432x288 with 6 Axes>"
      ]
     },
     "metadata": {
      "needs_background": "light"
     },
     "output_type": "display_data"
>>>>>>> 4c0039af4692a7c2dcc13beaf79029ecc22160d2
    }
   ],
   "source": [
    "# visualization, plot the first pair of Sentinel-1 and Sentinel-2 patches of training.h5\n",
    "import matplotlib.pyplot as plt\n",
    "plt.plot(label_qty)\n",
    "\n",
    "plt.subplot(221)\n",
    "plt.imshow(10*np.log10(s1_training[0,:,:,5]),cmap=plt.cm.get_cmap('gray'));\n",
    "plt.colorbar()\n",
    "plt.title('Sentinel-1')\n",
    "\n",
    "plt.subplot(222)\n",
    "plt.imshow(10*np.log10(s2_training[0,:,:,0]),cmap=plt.cm.get_cmap('gray'));\n",
    "plt.colorbar()\n",
    "plt.title('Sentinel-2')\n",
    "\n",
    "plt.subplot(223)\n",
    "plt.imshow(s2_training[0,:,:,0], cmap=plt.cm.get_cmap('gray'))\n",
    "plt.colorbar()\n",
    "plt.title(\"aaa\")\n",
    "\n",
    "plt.show()"
   ]
  },
  {
   "cell_type": "code",
   "execution_count": null,
   "metadata": {},
   "outputs": [],
   "source": []
  },
  {
   "cell_type": "code",
   "execution_count": 20,
   "metadata": {
    "scrolled": true
   },
   "outputs": [
    {
     "name": "stdout",
     "output_type": "stream",
     "text": [
      "done 0/352366\n",
      "done 100000/352366\n",
      "done 200000/352366\n",
      "done 300000/352366\n"
     ]
    }
   ],
   "source": [
    "\n",
    "### simple classification example\n",
    "### Training part\n",
    "\n",
    "from sklearn.linear_model import SGDClassifier\n",
    "\n",
    "train_s1 = s1_training\n",
    "train_s2 = s2_training\n",
    "train_label = label_training\n",
    "clf = SGDClassifier()\n",
    "\n",
    "train_y = np.argmax(train_label, axis=1)\n",
    "classes = list(set(train_y))\n",
    "batch_size = 100000\n",
    "n_sampels = train_s1.shape[0]\n",
    "\n",
    "for i in range(0, n_sampels, batch_size):\n",
    "    ## this is an idea for batch training\n",
    "    ## you can relpace this loop for deep learning methods\n",
    "    if i % batch_size * 10 == 0:\n",
    "        print(\"done %d/%d\" % (i, n_sampels))\n",
    "    start_pos = i\n",
    "    end_pos = min(i + batch_size, n_sampels)\n",
    "    train_s1_batch = np.asarray(train_s1[start_pos:end_pos, :, :, :])\n",
    "    train_s2_batch = np.asarray(train_s2[start_pos:end_pos, :, :, :])\n",
    "    cur_batch_size = train_s2_batch.shape[0]\n",
    "    train_s1_batch = train_s1_batch.reshape((cur_batch_size, -1))\n",
    "    train_s2_batch = train_s2_batch.reshape((cur_batch_size, -1))\n",
    "    train_X_batch = np.hstack([train_s1_batch, train_s2_batch])\n",
    "    label_batch = train_y[start_pos:end_pos]\n",
    "    clf.partial_fit(train_X_batch, label_batch, classes=classes)"
   ]
  },
  {
   "cell_type": "code",
   "execution_count": 21,
   "metadata": {},
   "outputs": [],
   "source": [
    "### make a prediction on validation\n",
    "pred_y = []\n",
    "train_val_y = np.argmax(label_validation, axis=1)\n",
    "batch_size = 10000\n",
    "n_val_samples = s2_validation.shape[0]\n",
    "for i in range(0, n_val_samples, batch_size):\n",
    "    start_pos = i\n",
    "    end_pos = min(i + batch_size, n_val_samples)\n",
    "    val_s1_batch = np.asarray(s1_validation[start_pos:end_pos, :, :, :])\n",
    "    val_s2_batch = np.asarray(s2_validation[start_pos:end_pos, :, :, :])\n",
    "    cur_batch_size = val_s2_batch.shape[0]\n",
    "    val_s1_batch = val_s1_batch.reshape((cur_batch_size, -1))\n",
    "    val_s2_batch = val_s2_batch.reshape((cur_batch_size, -1))\n",
    "    val_X_batch = np.hstack([val_s1_batch, val_s2_batch])\n",
    "    tmp_pred_y = clf.predict(val_X_batch)\n",
    "    pred_y.append(tmp_pred_y)\n",
    "pred_y = np.hstack(pred_y)"
   ]
  },
  {
   "cell_type": "code",
   "execution_count": 16,
   "metadata": {},
   "outputs": [
    {
     "name": "stdout",
     "output_type": "stream",
     "text": [
      "             precision    recall  f1-score   support\n",
      "\n",
      "          0       0.06      0.07      0.07       256\n",
      "          1       0.07      0.06      0.07      1254\n",
      "          2       0.04      0.04      0.04      2353\n",
      "          3       0.08      0.13      0.10       849\n",
      "          4       0.04      0.00      0.00       757\n",
      "          5       0.16      0.02      0.03      1906\n",
      "          6       0.00      0.00      0.00       474\n",
      "          7       0.24      0.46      0.32      3395\n",
      "          8       0.20      0.01      0.02      1914\n",
      "          9       0.10      0.06      0.08       860\n",
      "         10       0.67      0.58      0.62      2287\n",
      "         11       0.02      0.01      0.01       382\n",
      "         12       0.00      0.00      0.00      1202\n",
      "         13       0.45      0.28      0.35      2747\n",
      "         14       0.01      0.00      0.01       202\n",
      "         15       0.06      0.30      0.10       672\n",
      "         16       0.53      0.90      0.67      2609\n",
      "\n",
      "avg / total       0.25      0.28      0.24     24119\n",
      "\n"
     ]
    },
    {
     "name": "stderr",
     "output_type": "stream",
     "text": [
      "/root/anaconda2/lib/python2.7/site-packages/sklearn/metrics/classification.py:1135: UndefinedMetricWarning: Precision and F-score are ill-defined and being set to 0.0 in labels with no predicted samples.\n",
      "  'precision', 'predicted', average, warn_for)\n"
     ]
    }
   ],
   "source": [
    "from sklearn.metrics import classification_report\n",
    "print classification_report(train_val_y, pred_y)"
   ]
  }
 ],
 "metadata": {
  "kernelspec": {
   "display_name": "Python 3",
   "language": "python",
   "name": "python3"
  },
  "language_info": {
   "codemirror_mode": {
    "name": "ipython",
    "version": 3
   },
   "file_extension": ".py",
   "mimetype": "text/x-python",
   "name": "python",
   "nbconvert_exporter": "python",
   "pygments_lexer": "ipython3",
   "version": "3.6.4"
  }
 },
 "nbformat": 4,
 "nbformat_minor": 2
}
